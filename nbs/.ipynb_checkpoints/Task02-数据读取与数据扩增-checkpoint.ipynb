{
 "cells": [
  {
   "cell_type": "markdown",
   "metadata": {},
   "source": [
    "# Task2 数据读取与数据扩增\n",
    "在上一章节，我们给大家讲解了赛题的内容和三种不同的解决方案。从本章开始我们将逐渐的学习使用【定长字符识别】思路来构建模型，逐步讲解赛题的解决方案和相应知识点。     "
   ]
  },
  {
   "cell_type": "markdown",
   "metadata": {},
   "source": [
    "## 2 数据读取与数据扩增 \n",
    "本章主要内容为数据读取、数据扩增方法和Pytorch读取赛题数据三个部分组成。     \n",
    "       "
   ]
  },
  {
   "cell_type": "markdown",
   "metadata": {},
   "source": [
    "### 2.1 学习目标     \n",
    "- 学习Python和Pytorch中图像读取    \n",
    "- 学会扩增方法和Pytorch读取赛题数据"
   ]
  },
  {
   "cell_type": "markdown",
   "metadata": {},
   "source": [
    "### 2.2 图像读取           \n",
    "由于赛题数据是图像数据，赛题的任务是识别图像中的字符。因此我们首先需要完成对数据的读取操作，在Python中有很多库可以完成数据读取的操作，比较常见的有Pillow和OpenCV。     \n",
    "    "
   ]
  },
  {
   "cell_type": "markdown",
   "metadata": {},
   "source": [
    "#### 2.2.1 Pillow     \n",
    "Pillow是Python图像处理函式库(PIL）的一个分支。Pillow提供了常见的图像读取和处理的操作，而且可以与ipython notebook无缝集成，是应用比较广泛的库。 \n",
    "\n",
    "|效果|  代码 |\n",
    "|:----|:-----|\n",
    "|![IMG](../IMG/Task02/Pillow读取原图.png)   |   from PIL import Image<br># 导入Pillow库<br> <br> # 读取图片<br>im = Image.open('cat.jpg') |\n",
    "|![IMG](../IMG/Task02/Pillow模糊原图.png)   |   from PIL import Image, ImageFilter<br>im = Image.open('cat.jpg')<br> # 应用模糊滤镜:<br>im2 = im.filter(ImageFilter.BLUR)<br>im2.save('blur.jpg', 'jpeg') |\n",
    "|![IMG](../IMG/Task02/Pillow缩放原图.png)   |   from PIL import Image<br># 打开一个jpg图像文件，注意是当前路径:<br> im = Image.open('cat.jpg')<br>im.thumbnail((w//2, h//2))<br>im.save('thumbnail.jpg', 'jpeg') |\n",
    "\n",
    "当然上面只演示了Pillow最基础的操作，Pillow还有很多图像操作，是图像处理的必备库。       \n",
    "Pillow的官方文档：https://pillow.readthedocs.io/en/stable/"
   ]
  },
  {
   "cell_type": "markdown",
   "metadata": {},
   "source": [
    "#### 2.2.2 OpenCV           \n",
    "OpenCV是一个跨平台的计算机视觉库，最早由Intel开源得来。OpenCV发展的非常早，拥有众多的计算机视觉、数字图像处理和机器视觉等功能。OpenCV在功能上比Pillow更加强大很多，学习成本也高很多。   \n",
    "\n",
    "|效果|  代码 |\n",
    "|:----|:-----|\n",
    "|![IMG](../IMG/Task02/Pillow读取原图.png)   |  import cv2<br># 导入Opencv库<br>img = cv2.imread('cat.jpg')<br># Opencv默认颜色通道顺序是BRG，转换一下<br>img = cv2.cvtColor(img, cv2.COLOR_BGR2RGB)  |\n",
    "|![IMG](../IMG/Task02/opencv灰度图.png)   |  import cv2<br># 导入Opencv库<br>img = cv2.imread('cat.jpg')<br>img = cv2.cvtColor(img, cv2.COLOR_BGR2GRAY)<br># 转换为灰度图  |\n",
    "|![IMG](../IMG/Task02/opencv边缘检测.png)   |  import cv2<br># 导入Opencv库<br>img = cv2.imread('cat.jpg')<br>img =cv2.cvtColor(img, cv2.COLOR_BGR2GRAY)<br># 转换为灰度图<br># Canny边缘检测<br>edges = cv2.Canny(img, 30, 70)<br>cv2.imwrite('canny.jpg', edges)  |\n",
    "\n",
    "\n",
    "OpenCV包含了众多的图像处理的功能，OpenCV包含了你能想得到的只要与图像相关的操作。此外OpenCV还内置了很多的图像特征处理算法，如关键点检测、边缘检测和直线检测等。       \n",
    "OpenCV官网：https://opencv.org/       \n",
    "OpenCV Github：https://github.com/opencv/opencv      \n",
    "OpenCV 扩展算法库：https://github.com/opencv/opencv_contrib"
   ]
  },
  {
   "cell_type": "markdown",
   "metadata": {},
   "source": [
    "### 2.3 数据扩增方法          \n",
    "在上一小节中给大家初步介绍了Pillow和OpenCV的使用，现在回到赛题街道字符识别任务中。在赛题中我们需要对的图像进行字符识别，因此需要我们完成的数据的读取操作，同时也需要完成数据扩增（Data Augmentation）操作。     "
   ]
  },
  {
   "cell_type": "markdown",
   "metadata": {},
   "source": [
    "#### 2.3.1 数据扩增介绍      \n",
    "在深度学习中数据扩增方法非常重要，数据扩增可以增加训练集的样本，同时也可以有效缓解模型过拟合的情况，也可以给模型带来的更强的泛化能力。\n",
    "      \n",
    "![IMG](../IMG/Task02/数据扩增.png)"
   ]
  },
  {
   "cell_type": "markdown",
   "metadata": {},
   "source": [
    "- #### 数据扩增为什么有用？ \n",
    "  \n",
    "  \n",
    "在深度学习模型的训练过程中，数据扩增是必不可少的环节。现有深度学习的参数非常多，一般的模型可训练的参数量基本上都是万到百万级别，而训练集样本的数量很难有这么多。       \n",
    "其次数据扩增可以扩展样本空间，假设现在的分类模型需要对汽车进行分类，左边的是汽车A，右边为汽车B。如果不使用任何数据扩增方法，深度学习模型会从汽车车头的角度来进行判别，而不是汽车具体的区别。     \n",
    "      \n",
    "\n",
    "![IMG](../IMG/Task02/数据扩增car.png)   "
   ]
  },
  {
   "cell_type": "markdown",
   "metadata": {},
   "source": [
    "- #### 有哪些数据扩增方法？   \n",
    "  \n",
    "  \n",
    "数据扩增方法有很多：从颜色空间、尺度空间到样本空间，同时根据不同任务数据扩增都有相应的区别。        \n",
    "- 对于图像分类，数据扩增一般不会改变标签；\n",
    "- 对于物体检测，数据扩增会改变物体坐标位置；\n",
    "- 对于图像分割，数据扩增会改变像素标签。     "
   ]
  },
  {
   "cell_type": "code",
   "execution_count": null,
   "metadata": {},
   "outputs": [],
   "source": []
  }
 ],
 "metadata": {
  "kernelspec": {
   "display_name": "Python [conda env:pytorch1-gpu]",
   "language": "python",
   "name": "conda-env-pytorch1-gpu-py"
  },
  "language_info": {
   "codemirror_mode": {
    "name": "ipython",
    "version": 3
   },
   "file_extension": ".py",
   "mimetype": "text/x-python",
   "name": "python",
   "nbconvert_exporter": "python",
   "pygments_lexer": "ipython3",
   "version": "3.7.5"
  }
 },
 "nbformat": 4,
 "nbformat_minor": 2
}
